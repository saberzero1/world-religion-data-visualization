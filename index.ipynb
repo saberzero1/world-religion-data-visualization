{
 "cells": [
  {
   "cell_type": "markdown",
   "id": "56e69935-1b40-4a34-a968-44507af01bae",
   "metadata": {
    "tags": []
   },
   "source": [
    "# World Religion Data Visualization\n",
    "\n",
    "The code below performs the preparation of the datasets."
   ]
  },
  {
   "cell_type": "code",
   "execution_count": 4,
   "id": "fc9163dc-0008-46ee-b990-cf252a42826c",
   "metadata": {},
   "outputs": [
    {
     "name": "stdout",
     "output_type": "stream",
     "text": [
      "Finished loading datasets.\n"
     ]
    }
   ],
   "source": [
    "import pandas as pd\n",
    "import pyodbc\n",
    "\n",
    "country_codes  = pd.read_csv(\"datasets/cow-country-codes.csv\")\n",
    "global_stats   = pd.read_csv(\"datasets/WRP-global-data.csv\")\n",
    "national_stats = pd.read_csv(\"datasets/WRP-national-data.csv\")\n",
    "regional_stats = pd.read_csv(\"datasets/WRP-regional-data.csv\")\n",
    "\n",
    "print(\"Finished loading datasets.\")"
   ]
  },
  {
   "cell_type": "code",
   "execution_count": 49,
   "id": "f2d59b0f-73ab-4d1f-81b0-7b2fbcf9da90",
   "metadata": {},
   "outputs": [
    {
     "name": "stdout",
     "output_type": "stream",
     "text": [
      "Get country code by country name. Example: 0    USA\n",
      "Name: StateAbb, dtype: object\n"
     ]
    },
    {
     "data": {
      "text/plain": [
       "Series([], Name: StateAbb, dtype: object)"
      ]
     },
     "execution_count": 49,
     "metadata": {},
     "output_type": "execute_result"
    }
   ],
   "source": [
    "def cc(country):\n",
    "    return country_codes.query('StateNme == @country')[\"StateAbb\"]\n",
    "\n",
    "print(f\"Get country code by country name. Example: {cc('United States of America')}\")\n",
    "cc('Netherlands')"
   ]
  },
  {
   "cell_type": "code",
   "execution_count": null,
   "id": "d9a232c5-9529-4197-ab8d-ba2d7c23b5ff",
   "metadata": {},
   "outputs": [],
   "source": []
  }
 ],
 "metadata": {
  "kernelspec": {
   "display_name": "Python 3 (ipykernel)",
   "language": "python",
   "name": "python3"
  },
  "language_info": {
   "codemirror_mode": {
    "name": "ipython",
    "version": 3
   },
   "file_extension": ".py",
   "mimetype": "text/x-python",
   "name": "python",
   "nbconvert_exporter": "python",
   "pygments_lexer": "ipython3",
   "version": "3.8.8"
  }
 },
 "nbformat": 4,
 "nbformat_minor": 5
}
